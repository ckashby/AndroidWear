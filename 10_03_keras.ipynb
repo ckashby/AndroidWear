{
  "nbformat": 4,
  "nbformat_minor": 0,
  "metadata": {
    "colab": {
      "provenance": [],
      "gpuType": "T4",
      "authorship_tag": "ABX9TyO9Pef7qEEpOyI7z/B/y8r3",
      "include_colab_link": true
    },
    "kernelspec": {
      "name": "python3",
      "display_name": "Python 3"
    },
    "language_info": {
      "name": "python"
    },
    "accelerator": "GPU"
  },
  "cells": [
    {
      "cell_type": "markdown",
      "metadata": {
        "id": "view-in-github",
        "colab_type": "text"
      },
      "source": [
        "<a href=\"https://colab.research.google.com/github/ckashby/AndroidWear/blob/master/10_03_keras.ipynb\" target=\"_parent\"><img src=\"https://colab.research.google.com/assets/colab-badge.svg\" alt=\"Open In Colab\"/></a>"
      ]
    },
    {
      "cell_type": "markdown",
      "source": [
        "<img src=\"http://imgur.com/1ZcRyrc.png\" style=\"float: left; margin: 20px; height: 55px\">\n",
        "\n",
        "# Neural Networks with Keras\n",
        "\n",
        "_Authors: Justin Pounders (ATL) and Riley Dallas (ATX)_\n",
        "\n",
        "---\n",
        "\n",
        "\n",
        "### Learning Objectives\n",
        "\n",
        "- Describe the basic `keras` workflow.\n",
        "- Train regression and classification neural networks using `keras`\n",
        "\n"
      ],
      "metadata": {
        "id": "MR6iIYVaSBD6"
      }
    },
    {
      "cell_type": "code",
      "execution_count": 1,
      "metadata": {
        "id": "FueL1gV9IMPu"
      },
      "outputs": [],
      "source": [
        "import numpy as np\n",
        "from sklearn.datasets import make_classification, make_regression\n",
        "from sklearn.preprocessing import StandardScaler, MinMaxScaler\n",
        "from sklearn.model_selection import train_test_split\n",
        "import matplotlib.pyplot as plt\n",
        "\n",
        "from tensorflow.keras.models import Sequential\n",
        "from tensorflow.keras.layers import Dense\n",
        "from tensorflow.keras.utils import to_categorical"
      ]
    },
    {
      "cell_type": "markdown",
      "source": [
        "# Regression\n",
        "---\n",
        "\n",
        "`make_regression` is an excellent library for generating a random regression problem. This helps us focus on the model without having to worry about the dataset.\n",
        "\n",
        "In the cell below, use `make_regression` to generate 10,000 samples using 20 features."
      ],
      "metadata": {
        "id": "G3Rc8JxYSLzF"
      }
    },
    {
      "cell_type": "code",
      "source": [
        "X, y = make_regression(n_samples = 10_000, n_features = 20, random_state = 42)"
      ],
      "metadata": {
        "id": "IMkoYYt-Ipfs"
      },
      "execution_count": 7,
      "outputs": []
    },
    {
      "cell_type": "markdown",
      "source": [
        "### Train/Test Split\n",
        "---\n",
        "\n",
        "We always want to have a validation set to test our model. Use the `train_test_split` function to split our `X` and `y` variables into a training set and a holdout set."
      ],
      "metadata": {
        "id": "K68sYl8ySTSf"
      }
    },
    {
      "cell_type": "code",
      "source": [
        "X_train, X_test, y_train, y_test = train_test_split(X, y, test_size=.25, random_state = 42)"
      ],
      "metadata": {
        "id": "gb-0QFooJ8T9"
      },
      "execution_count": 10,
      "outputs": []
    },
    {
      "cell_type": "markdown",
      "source": [
        "### `StandardScaler`\n",
        "---\n",
        "\n",
        "You want to scale your data for *any* model that uses Gradient Descent, which includes Neural Networks."
      ],
      "metadata": {
        "id": "ZbY8kNpwSaAB"
      }
    },
    {
      "cell_type": "code",
      "source": [
        "ss = StandardScaler()\n",
        "\n",
        "X_train_sc = ss.fit_transform(X_train)\n",
        "X_test_sc = ss.transform(X_test)"
      ],
      "metadata": {
        "id": "n-SXtJd-KZXp"
      },
      "execution_count": 11,
      "outputs": []
    },
    {
      "cell_type": "markdown",
      "source": [
        "### Your first Neural Network!!\n",
        "---\n",
        "\n",
        "Next stop, [The Singularity](https://en.wikipedia.org/wiki/Technological_singularity)!\n",
        "\n",
        "Creating a model in `keras` entails a few steps:\n",
        "1. Create your network topology\n",
        "2. Compile your model\n",
        "3. Fit your model\n",
        "\n",
        "We'll cover each step in the cells below.\n",
        "\n",
        "### Create your network topology\n",
        "---\n",
        "\n",
        "We'll create a simple network with:\n",
        "- an input layer\n",
        "- one hidden layer. As a general rule, you should use `'relu'` as your activation function for all hidden layers.\n",
        "- an output layer.\n",
        "\n",
        "For *all* regression problems, your output layer will be 1 neuron with *no* activation function."
      ],
      "metadata": {
        "id": "BloZTSAVSgKd"
      }
    },
    {
      "cell_type": "code",
      "source": [
        "model = Sequential()\n",
        "\n",
        "# Keras combines input and hidden layer when using Sequential\n",
        "model.add(Dense(32, # number of neurons, base 2 larger than num of features\n",
        "                activation = 'relu', #ReLU will be used for most of our hidden layers\n",
        "                input_shape = (20,) # What is the .shape of one sample of X, need to specify input_shape since first layer\n",
        "                ))\n",
        "# Just for fun, adding another hidden layer\n",
        "model.add(Dense(32, activation = 'relu'))\n",
        "# Output Layer\n",
        "# Because it's regression, we have 1 neuron with Linear(None) activation\n",
        "model.add(Dense(1, activation = None))\n"
      ],
      "metadata": {
        "id": "G-J9wvr0Kl8Y"
      },
      "execution_count": 29,
      "outputs": []
    },
    {
      "cell_type": "markdown",
      "source": [
        "### Compile your model\n",
        "---\n",
        "\n",
        "Whenever you compile your model, you have to specify a few things:\n",
        "1. What [loss function](https://keras.io/losses/) to use (depends on if it's regression, classification, etc)\n",
        "2. What optimizer to use (Always use `'adam'`)\n",
        "3. Optional: What additional [metrics](https://keras.io/metrics/) you'd like to monitor"
      ],
      "metadata": {
        "id": "3ap3uI1GSzlG"
      }
    },
    {
      "cell_type": "code",
      "source": [
        "model.compile(loss = 'mean_squared_error', optimizer = 'adam')"
      ],
      "metadata": {
        "id": "pnR5ZNyxS1i-"
      },
      "execution_count": 30,
      "outputs": []
    },
    {
      "cell_type": "markdown",
      "source": [
        "### Fit your model\n",
        "---\n",
        "\n",
        "When fitting your model, you need to specify a few things:\n",
        "1. The number of epochs: start with 10. Always easy to add more\n",
        "2. Your batch size: pick a number that is a power of 2\n",
        "3. Your validation data, which in this case is our test set."
      ],
      "metadata": {
        "id": "XXQ74jADTHqj"
      }
    },
    {
      "cell_type": "code",
      "source": [
        "model.fit(X_train_sc, y_train,\n",
        "          epochs = 10,\n",
        "          batch_size = 512, #base 2 recommended\n",
        "          validation_data = (X_test_sc, y_test))"
      ],
      "metadata": {
        "colab": {
          "base_uri": "https://localhost:8080/"
        },
        "id": "-1oArAjRS-nZ",
        "outputId": "7e3e4952-1432-4269-abc4-5c8d0a40a41d"
      },
      "execution_count": 31,
      "outputs": [
        {
          "output_type": "stream",
          "name": "stdout",
          "text": [
            "Epoch 1/10\n",
            "15/15 [==============================] - 1s 14ms/step - loss: 0.3055 - val_loss: 0.2204\n",
            "Epoch 2/10\n",
            "15/15 [==============================] - 0s 6ms/step - loss: 0.2004 - val_loss: 0.1791\n",
            "Epoch 3/10\n",
            "15/15 [==============================] - 0s 5ms/step - loss: 0.1676 - val_loss: 0.1568\n",
            "Epoch 4/10\n",
            "15/15 [==============================] - 0s 5ms/step - loss: 0.1500 - val_loss: 0.1434\n",
            "Epoch 5/10\n",
            "15/15 [==============================] - 0s 6ms/step - loss: 0.1386 - val_loss: 0.1350\n",
            "Epoch 6/10\n",
            "15/15 [==============================] - 0s 5ms/step - loss: 0.1308 - val_loss: 0.1287\n",
            "Epoch 7/10\n",
            "15/15 [==============================] - 0s 5ms/step - loss: 0.1250 - val_loss: 0.1237\n",
            "Epoch 8/10\n",
            "15/15 [==============================] - 0s 6ms/step - loss: 0.1203 - val_loss: 0.1200\n",
            "Epoch 9/10\n",
            "15/15 [==============================] - 0s 5ms/step - loss: 0.1163 - val_loss: 0.1165\n",
            "Epoch 10/10\n",
            "15/15 [==============================] - 0s 5ms/step - loss: 0.1127 - val_loss: 0.1134\n"
          ]
        },
        {
          "output_type": "execute_result",
          "data": {
            "text/plain": [
              "<keras.src.callbacks.History at 0x787f581c6e90>"
            ]
          },
          "metadata": {},
          "execution_count": 31
        }
      ]
    },
    {
      "cell_type": "markdown",
      "source": [
        "### Model predictions\n",
        "---\n",
        "\n",
        "Your `keras` model has a `.predict()` method, similar to `sklearn`. The only difference is `keras` returns a 2D `numpy` matrix (`sklearn` returns a 1D `numpy` array).\n",
        "\n",
        "Try it out in the cell below."
      ],
      "metadata": {
        "id": "M390F7POS7tE"
      }
    },
    {
      "cell_type": "code",
      "source": [
        "model.predict(X_test_sc)[:, 0] # .predict() in keras spits out multi-dimensional array, have to index into it"
      ],
      "metadata": {
        "colab": {
          "base_uri": "https://localhost:8080/"
        },
        "id": "FQMylKKdOFmS",
        "outputId": "903a507f-50c9-400a-c97c-c61a42880a0f"
      },
      "execution_count": 32,
      "outputs": [
        {
          "output_type": "stream",
          "name": "stdout",
          "text": [
            "79/79 [==============================] - 0s 2ms/step\n"
          ]
        },
        {
          "output_type": "execute_result",
          "data": {
            "text/plain": [
              "array([0.7972413 , 1.1037306 , 0.8615085 , ..., 0.69259804, 0.5712013 ,\n",
              "       0.94512564], dtype=float32)"
            ]
          },
          "metadata": {},
          "execution_count": 32
        }
      ]
    },
    {
      "cell_type": "code",
      "source": [
        "from sklearn.metrics import mean_squared_error"
      ],
      "metadata": {
        "id": "DFf2SKcXNX17"
      },
      "execution_count": 33,
      "outputs": []
    },
    {
      "cell_type": "code",
      "source": [
        "mean_squared_error(y_test, model.predict(X_test_sc)[:, 0])"
      ],
      "metadata": {
        "colab": {
          "base_uri": "https://localhost:8080/"
        },
        "id": "ROQpRryDRLdO",
        "outputId": "31545ee5-282c-4053-8dc4-b63d92e3e2b7"
      },
      "execution_count": 34,
      "outputs": [
        {
          "output_type": "stream",
          "name": "stdout",
          "text": [
            "79/79 [==============================] - 0s 2ms/step\n"
          ]
        },
        {
          "output_type": "execute_result",
          "data": {
            "text/plain": [
              "0.11336465861098295"
            ]
          },
          "metadata": {},
          "execution_count": 34
        }
      ]
    },
    {
      "cell_type": "markdown",
      "source": [
        "# Binary Classification\n",
        "---\n",
        "\n",
        "`make_classification` is similar to `make_regression`, except now we're predicting a class (0 or 1).\n",
        "\n",
        "In the cell below, use `make_classification` to generate 10,000 samples using 20 features."
      ],
      "metadata": {
        "id": "pcJ-vhugTx22"
      }
    },
    {
      "cell_type": "code",
      "source": [
        "X, y = make_classification(n_samples = 10_000, n_features = 20, random_state = 42)\n",
        "\n",
        "X_train, X_test, y_train, y_test = train_test_split(X, y, random_state=42)"
      ],
      "metadata": {
        "id": "ejkhWmJWRMG-"
      },
      "execution_count": 37,
      "outputs": []
    },
    {
      "cell_type": "code",
      "source": [
        "ss = StandardScaler()\n",
        "\n",
        "X_train_sc = ss.fit_transform(X_train)\n",
        "X_test_sc = ss.transform(X_test)"
      ],
      "metadata": {
        "id": "8zqPYDNsRy1K"
      },
      "execution_count": 38,
      "outputs": []
    },
    {
      "cell_type": "code",
      "source": [
        "X_train_sc[:,0], X_train_sc.shape"
      ],
      "metadata": {
        "colab": {
          "base_uri": "https://localhost:8080/"
        },
        "id": "UrquCHihWFRQ",
        "outputId": "61908beb-b961-450f-cf14-813eedad6c09"
      },
      "execution_count": 40,
      "outputs": [
        {
          "output_type": "execute_result",
          "data": {
            "text/plain": [
              "(array([-1.48256705,  1.58733106, -0.63227657, ...,  1.23781767,\n",
              "        -0.01388106,  0.43163711]),\n",
              " (7500, 20))"
            ]
          },
          "metadata": {},
          "execution_count": 40
        }
      ]
    },
    {
      "cell_type": "markdown",
      "source": [
        "### Network Topology for Binary Classification\n",
        "---\n",
        "\n",
        "We'll create a simple network with:\n",
        "- an input layer,\n",
        "- one hidden layer. As a general rule, you should use `'relu'` as your activation function for all hidden layers.\n",
        "- an output layer.\n",
        "\n",
        "For *all* binary classification problems, your output layer will be 1 neuron with `'sigmoid'` activation function. Sigmoid squashes the output of our neuron to a value between 0 and 1, which is great for predicting probabilities. We'll use the probability for our loss function in the next step."
      ],
      "metadata": {
        "id": "2b7YIh8OU7uA"
      }
    },
    {
      "cell_type": "code",
      "source": [
        "model = Sequential()\n",
        "\n",
        "# input/hidden layer\n",
        "model.add(Dense(32,\n",
        "                activation = 'relu',\n",
        "                input_shape = (20,)))\n",
        "# Binary Classification Problem -> 1 neuron, SIGMOID!\n",
        "model.add(Dense(1,\n",
        "                activation = 'sigmoid'))\n"
      ],
      "metadata": {
        "id": "xBgzI5TpR0ng"
      },
      "execution_count": 41,
      "outputs": []
    },
    {
      "cell_type": "markdown",
      "source": [
        "### Compile your model\n",
        "---\n",
        "\n",
        "Whenever you compile your model, you have to specify a few things:\n",
        "1. What loss function to use: For binary classification, use `binary_crossentropy`. ([Description](https://ml-cheatsheet.readthedocs.io/en/latest/loss_functions.html#cross-entropy))\n",
        "2. What optimizer to use (Always use `'adam'`)\n",
        "3. Optional: What additional [metrics](https://keras.io/metrics/) you'd like to monitor"
      ],
      "metadata": {
        "id": "1g4FIFyyWa80"
      }
    },
    {
      "cell_type": "code",
      "source": [
        "\n",
        "# with accuracy as a metric\n",
        "model.compile(loss = 'binary_crossentropy',\n",
        "              optimizer = 'adam',\n",
        "              metrics = ['accuracy'])"
      ],
      "metadata": {
        "id": "uMrWkndzWWT6"
      },
      "execution_count": 42,
      "outputs": []
    },
    {
      "cell_type": "markdown",
      "source": [
        "### Fit your model\n",
        "---\n",
        "\n",
        "When fitting your model, you need to specify a few things:\n",
        "1. The number of epochs: start with 10. Always easy to add more\n",
        "2. Your batch size: pick a number that is a power of 2\n",
        "3. Your validation data, which in this case is our test set.\n",
        "\n",
        "When you fit a model, `keras` returns a `History` object. We need that in the next step, but for now, just save it to a variable."
      ],
      "metadata": {
        "id": "px6f5qrFWj9x"
      }
    },
    {
      "cell_type": "code",
      "source": [
        "res = model.fit(X_train_sc, y_train,\n",
        "                epochs = 10,\n",
        "                batch_size = 512,\n",
        "                validation_data = (X_test_sc, y_test))"
      ],
      "metadata": {
        "colab": {
          "base_uri": "https://localhost:8080/"
        },
        "id": "OJ3y3YnDWYiS",
        "outputId": "6f2bad2c-804a-41b1-d5ca-a7839a91078c"
      },
      "execution_count": 44,
      "outputs": [
        {
          "output_type": "stream",
          "name": "stdout",
          "text": [
            "Epoch 1/10\n",
            "15/15 [==============================] - 0s 8ms/step - loss: 0.3778 - accuracy: 0.8816 - val_loss: 0.3679 - val_accuracy: 0.8812\n",
            "Epoch 2/10\n",
            "15/15 [==============================] - 0s 5ms/step - loss: 0.3617 - accuracy: 0.8835 - val_loss: 0.3527 - val_accuracy: 0.8836\n",
            "Epoch 3/10\n",
            "15/15 [==============================] - 0s 6ms/step - loss: 0.3481 - accuracy: 0.8847 - val_loss: 0.3396 - val_accuracy: 0.8860\n",
            "Epoch 4/10\n",
            "15/15 [==============================] - 0s 6ms/step - loss: 0.3365 - accuracy: 0.8867 - val_loss: 0.3285 - val_accuracy: 0.8884\n",
            "Epoch 5/10\n",
            "15/15 [==============================] - 0s 5ms/step - loss: 0.3267 - accuracy: 0.8887 - val_loss: 0.3192 - val_accuracy: 0.8900\n",
            "Epoch 6/10\n",
            "15/15 [==============================] - 0s 6ms/step - loss: 0.3185 - accuracy: 0.8905 - val_loss: 0.3111 - val_accuracy: 0.8912\n",
            "Epoch 7/10\n",
            "15/15 [==============================] - 0s 5ms/step - loss: 0.3114 - accuracy: 0.8925 - val_loss: 0.3043 - val_accuracy: 0.8940\n",
            "Epoch 8/10\n",
            "15/15 [==============================] - 0s 6ms/step - loss: 0.3054 - accuracy: 0.8951 - val_loss: 0.2985 - val_accuracy: 0.8940\n",
            "Epoch 9/10\n",
            "15/15 [==============================] - 0s 6ms/step - loss: 0.3001 - accuracy: 0.8972 - val_loss: 0.2933 - val_accuracy: 0.8960\n",
            "Epoch 10/10\n",
            "15/15 [==============================] - 0s 6ms/step - loss: 0.2957 - accuracy: 0.8975 - val_loss: 0.2889 - val_accuracy: 0.8952\n"
          ]
        }
      ]
    },
    {
      "cell_type": "code",
      "source": [
        "print(type(res.history))\n",
        "res.history"
      ],
      "metadata": {
        "colab": {
          "base_uri": "https://localhost:8080/"
        },
        "id": "nacAocf_WZKG",
        "outputId": "b825625d-c973-4035-f754-c8b9113fdcc1"
      },
      "execution_count": 47,
      "outputs": [
        {
          "output_type": "stream",
          "name": "stdout",
          "text": [
            "<class 'dict'>\n"
          ]
        },
        {
          "output_type": "execute_result",
          "data": {
            "text/plain": [
              "{'loss': [0.3778174817562103,\n",
              "  0.3616965115070343,\n",
              "  0.34807640314102173,\n",
              "  0.33645835518836975,\n",
              "  0.32670149207115173,\n",
              "  0.3184887170791626,\n",
              "  0.31140872836112976,\n",
              "  0.3053744435310364,\n",
              "  0.3000710606575012,\n",
              "  0.29565560817718506],\n",
              " 'accuracy': [0.881600022315979,\n",
              "  0.8834666609764099,\n",
              "  0.8846666812896729,\n",
              "  0.8866666555404663,\n",
              "  0.8886666893959045,\n",
              "  0.8905333280563354,\n",
              "  0.8925333619117737,\n",
              "  0.8950666785240173,\n",
              "  0.8971999883651733,\n",
              "  0.8974666595458984],\n",
              " 'val_loss': [0.367860347032547,\n",
              "  0.35266992449760437,\n",
              "  0.3396119475364685,\n",
              "  0.32845059037208557,\n",
              "  0.31924769282341003,\n",
              "  0.31107333302497864,\n",
              "  0.30425432324409485,\n",
              "  0.2985062301158905,\n",
              "  0.2933427393436432,\n",
              "  0.288875937461853],\n",
              " 'val_accuracy': [0.8812000155448914,\n",
              "  0.8835999965667725,\n",
              "  0.8859999775886536,\n",
              "  0.8884000182151794,\n",
              "  0.8899999856948853,\n",
              "  0.8912000060081482,\n",
              "  0.8939999938011169,\n",
              "  0.8939999938011169,\n",
              "  0.8960000276565552,\n",
              "  0.8952000141143799]}"
            ]
          },
          "metadata": {},
          "execution_count": 47
        }
      ]
    },
    {
      "cell_type": "markdown",
      "source": [
        "### Visualizing model training\n",
        "---\n",
        "\n",
        "Whenever you fit your `keras` model, it returns a `History` object ([link](https://keras.io/visualization/#training-history-visualization)) that can be used for plotting."
      ],
      "metadata": {
        "id": "oGfPiI7BXDPN"
      }
    },
    {
      "cell_type": "code",
      "source": [
        "plt.plot(res.history['loss'], label = 'Train')\n",
        "plt.plot(res.history['val_loss'], label = 'Test')\n",
        "plt.legend();"
      ],
      "metadata": {
        "colab": {
          "base_uri": "https://localhost:8080/",
          "height": 430
        },
        "id": "MhSwSWxhXEDD",
        "outputId": "dd23dad5-8d81-4db8-f58d-4b90a0fb9c7b"
      },
      "execution_count": 48,
      "outputs": [
        {
          "output_type": "display_data",
          "data": {
            "text/plain": [
              "<Figure size 640x480 with 1 Axes>"
            ],
            "image/png": "[encoded data removed]"
          },
          "metadata": {}
        }
      ]
    },
    {
      "cell_type": "markdown",
      "source": [
        "### Challenge\n",
        "---\n",
        "\n",
        "Using the `history` object, plot the model's accuracy (for both train and test)."
      ],
      "metadata": {
        "id": "VPOkpiGUYEdM"
      }
    },
    {
      "cell_type": "code",
      "source": [
        "res.history.keys()"
      ],
      "metadata": {
        "colab": {
          "base_uri": "https://localhost:8080/"
        },
        "id": "tqqclWrbYFX6",
        "outputId": "b21495fb-a963-4ddf-dd85-cd914095de0c"
      },
      "execution_count": 49,
      "outputs": [
        {
          "output_type": "execute_result",
          "data": {
            "text/plain": [
              "dict_keys(['loss', 'accuracy', 'val_loss', 'val_accuracy'])"
            ]
          },
          "metadata": {},
          "execution_count": 49
        }
      ]
    },
    {
      "cell_type": "code",
      "source": [
        "plt.plot(res.history['accuracy'], label = 'Train')\n",
        "plt.plot(res.history['val_accuracy'], label = 'Test')\n",
        "plt.legend();"
      ],
      "metadata": {
        "colab": {
          "base_uri": "https://localhost:8080/",
          "height": 430
        },
        "id": "2rBCav_uYVTh",
        "outputId": "1b6f98e3-718d-49f8-f2bc-9e487237e894"
      },
      "execution_count": 50,
      "outputs": [
        {
          "output_type": "display_data",
          "data": {
            "text/plain": [
              "<Figure size 640x480 with 1 Axes>"
            ],
            "image/png": "[encoded data removed]"
          },
          "metadata": {}
        }
      ]
    },
    {
      "cell_type": "markdown",
      "source": [
        "# Multi-class Classification\n",
        "---\n",
        "\n",
        "The `make_classification` function allows for multi-class problems as well. Simply increase the `n_classes` and voila!\n",
        "\n",
        "**NOTE**: You'll need to increase `n_informative` as you increase `n_classes`.\n",
        "\n",
        "In the cell below, let's create a dataset with three classes."
      ],
      "metadata": {
        "id": "4bmgPPdjZkEf"
      }
    },
    {
      "cell_type": "code",
      "source": [
        "X, y = make_classification(n_samples = 10_000,\n",
        "                           n_features = 10,\n",
        "                           n_classes = 3,\n",
        "                           n_informative = 3,\n",
        "                           random_state = 42)"
      ],
      "metadata": {
        "id": "83h5fI9DZC1F"
      },
      "execution_count": 51,
      "outputs": []
    },
    {
      "cell_type": "markdown",
      "source": [
        "### One-hot Encoding Targets\n",
        "---\n",
        "\n",
        "In `keras`, you have to one-hot encode your `y` if it contains more than two classes. We'll use `keras`' built-in `to_categorical` function to achieve this."
      ],
      "metadata": {
        "id": "0d0Cb7A6Z9jD"
      }
    },
    {
      "cell_type": "code",
      "source": [
        "y[:10]"
      ],
      "metadata": {
        "colab": {
          "base_uri": "https://localhost:8080/"
        },
        "id": "pWGS7YEBZZEk",
        "outputId": "8f2f3266-75b8-4ca4-f6ad-28f401ccb2fb"
      },
      "execution_count": 55,
      "outputs": [
        {
          "output_type": "execute_result",
          "data": {
            "text/plain": [
              "array([0, 1, 2, 1, 2, 0, 0, 1, 1, 0])"
            ]
          },
          "metadata": {},
          "execution_count": 55
        }
      ]
    },
    {
      "cell_type": "code",
      "source": [
        "y[:10]\n",
        "\n",
        "y = to_categorical(y)\n",
        "\n",
        "y[:10]"
      ],
      "metadata": {
        "colab": {
          "base_uri": "https://localhost:8080/"
        },
        "id": "wAPcO-ENaC_-",
        "outputId": "ca2924a0-e649-4895-f2e1-651a34ec085c"
      },
      "execution_count": 56,
      "outputs": [
        {
          "output_type": "execute_result",
          "data": {
            "text/plain": [
              "array([[1., 0., 0.],\n",
              "       [0., 1., 0.],\n",
              "       [0., 0., 1.],\n",
              "       [0., 1., 0.],\n",
              "       [0., 0., 1.],\n",
              "       [1., 0., 0.],\n",
              "       [1., 0., 0.],\n",
              "       [0., 1., 0.],\n",
              "       [0., 1., 0.],\n",
              "       [1., 0., 0.]], dtype=float32)"
            ]
          },
          "metadata": {},
          "execution_count": 56
        }
      ]
    },
    {
      "cell_type": "markdown",
      "source": [
        "### Train/Test Split\n",
        "---\n",
        "\n",
        "We always want to have a holdout set to test our model. Use the `train_test_split` function to split our `X` and `y` variables into a training set and a holdout set."
      ],
      "metadata": {
        "id": "mrzYSef8alH3"
      }
    },
    {
      "cell_type": "code",
      "source": [
        "X_train, X_test, y_train, y_test = train_test_split(X, y, random_state = 42)\n",
        "\n",
        "ss = StandardScaler()\n",
        "\n",
        "X_train_sc = ss.fit_transform(X_train)\n",
        "X_test_sc = ss.transform(X_test)"
      ],
      "metadata": {
        "id": "CLpAVT9GaI9i"
      },
      "execution_count": 57,
      "outputs": []
    },
    {
      "cell_type": "code",
      "source": [
        "input_shape = X_train_sc.shape"
      ],
      "metadata": {
        "id": "Q6nkvI6AaR9K"
      },
      "execution_count": 61,
      "outputs": []
    },
    {
      "cell_type": "markdown",
      "source": [
        "### Network Topology for Multi-class Classification\n",
        "---\n",
        "\n",
        "We'll create a simple network with:\n",
        "- an input layer\n",
        "- one hidden layer. As a general rule, you should use `'relu'` as your activation function for all hidden layers.\n",
        "- an output layer\n",
        "\n",
        "For *all* multi-class classification problems, your output layer will be the same number of neurons as the number of classes in your problem. The activation function will be `softmax`, which will normalize the predictions into probabilities that sum up to 1.0."
      ],
      "metadata": {
        "id": "Bt50k154am0y"
      }
    },
    {
      "cell_type": "code",
      "source": [
        "model = Sequential()\n",
        "\n",
        "# input/hidden layer\n",
        "model.add(Dense(16,\n",
        "                activation = 'relu',\n",
        "                input_shape = (10,)))\n",
        "model.add(Dense(8, activation = 'relu'))\n",
        "model.add(Dense(8, activation = 'relu'))\n",
        "model.add(Dense(8, activation = 'relu'))\n",
        "# Output Layer!\n",
        "# Multi-class classification! 1 Neuron PER class\n",
        "model.add(Dense(3, # 1 Neuron per class (3)\n",
        "                activation = 'softmax')) # softmax for multi-class!"
      ],
      "metadata": {
        "id": "UqGl9YzVaqsW"
      },
      "execution_count": 69,
      "outputs": []
    },
    {
      "cell_type": "markdown",
      "source": [
        "### Compile your model\n",
        "---\n",
        "\n",
        "Whenever you compile your model, you have to specify a few things:\n",
        "1. What loss function to use: For multi-class classification, use `categorical_crossentropy`. ([Description](https://ml-cheatsheet.readthedocs.io/en/latest/loss_functions.html#cross-entropy))\n",
        "2. What optimizer to use (Always use `'adam'`)\n",
        "3. Optional: What additional [metrics](https://keras.io/metrics/) you'd like to monitor"
      ],
      "metadata": {
        "id": "xR2638owcZwI"
      }
    },
    {
      "cell_type": "code",
      "source": [
        "model.compile(optimizer = 'adam',\n",
        "              loss = 'categorical_crossentropy',\n",
        "              metrics = ['acc'])"
      ],
      "metadata": {
        "id": "NIm1Q_PPbsCR"
      },
      "execution_count": 70,
      "outputs": []
    },
    {
      "cell_type": "markdown",
      "source": [
        "### Fit your model\n",
        "---\n",
        "\n",
        "When fitting your model, you need to specify a few things:\n",
        "1. The number of epochs: start with 10. Always easy to add more\n",
        "2. Your batch size: pick a number that is a power of 2\n",
        "3. Your validation data, which in this case is our test set."
      ],
      "metadata": {
        "id": "mQzrNtgPcb5D"
      }
    },
    {
      "cell_type": "code",
      "source": [
        "res = model.fit(X_train_sc, y_train,\n",
        "                epochs = 100,\n",
        "                batch_size = 256,\n",
        "                validation_data = (X_test_sc, y_test))"
      ],
      "metadata": {
        "colab": {
          "base_uri": "https://localhost:8080/"
        },
        "id": "BYFnnF4hcLMG",
        "outputId": "c4869621-1b02-4ce9-f6f1-23cb61169293"
      },
      "execution_count": 71,
      "outputs": [
        {
          "output_type": "stream",
          "name": "stdout",
          "text": [
            "Epoch 1/100\n",
            "30/30 [==============================] - 2s 10ms/step - loss: 1.0633 - acc: 0.4221 - val_loss: 1.0260 - val_acc: 0.4524\n",
            "Epoch 2/100\n",
            "30/30 [==============================] - 0s 5ms/step - loss: 0.9888 - acc: 0.4440 - val_loss: 0.9439 - val_acc: 0.4688\n",
            "Epoch 3/100\n",
            "30/30 [==============================] - 0s 5ms/step - loss: 0.9005 - acc: 0.5173 - val_loss: 0.8688 - val_acc: 0.5968\n",
            "Epoch 4/100\n",
            "30/30 [==============================] - 0s 7ms/step - loss: 0.8331 - acc: 0.5973 - val_loss: 0.8221 - val_acc: 0.6068\n",
            "Epoch 5/100\n",
            "30/30 [==============================] - 0s 5ms/step - loss: 0.7933 - acc: 0.6164 - val_loss: 0.7894 - val_acc: 0.6428\n",
            "Epoch 6/100\n",
            "30/30 [==============================] - 0s 6ms/step - loss: 0.7633 - acc: 0.6469 - val_loss: 0.7603 - val_acc: 0.6632\n",
            "Epoch 7/100\n",
            "30/30 [==============================] - 0s 5ms/step - loss: 0.7323 - acc: 0.6897 - val_loss: 0.7288 - val_acc: 0.7072\n",
            "Epoch 8/100\n",
            "30/30 [==============================] - 0s 9ms/step - loss: 0.6994 - acc: 0.7289 - val_loss: 0.6959 - val_acc: 0.7332\n",
            "Epoch 9/100\n",
            "30/30 [==============================] - 0s 8ms/step - loss: 0.6639 - acc: 0.7527 - val_loss: 0.6620 - val_acc: 0.7544\n",
            "Epoch 10/100\n",
            "30/30 [==============================] - 0s 8ms/step - loss: 0.6282 - acc: 0.7664 - val_loss: 0.6240 - val_acc: 0.7656\n",
            "Epoch 11/100\n",
            "30/30 [==============================] - 0s 8ms/step - loss: 0.5886 - acc: 0.7852 - val_loss: 0.5847 - val_acc: 0.7880\n",
            "Epoch 12/100\n",
            "30/30 [==============================] - 0s 8ms/step - loss: 0.5477 - acc: 0.8024 - val_loss: 0.5460 - val_acc: 0.8020\n",
            "Epoch 13/100\n",
            "30/30 [==============================] - 0s 8ms/step - loss: 0.5086 - acc: 0.8225 - val_loss: 0.5059 - val_acc: 0.8240\n",
            "Epoch 14/100\n",
            "30/30 [==============================] - 0s 9ms/step - loss: 0.4717 - acc: 0.8365 - val_loss: 0.4747 - val_acc: 0.8348\n",
            "Epoch 15/100\n",
            "30/30 [==============================] - 0s 9ms/step - loss: 0.4413 - acc: 0.8433 - val_loss: 0.4497 - val_acc: 0.8460\n",
            "Epoch 16/100\n",
            "30/30 [==============================] - 0s 9ms/step - loss: 0.4173 - acc: 0.8519 - val_loss: 0.4296 - val_acc: 0.8536\n",
            "Epoch 17/100\n",
            "30/30 [==============================] - 0s 9ms/step - loss: 0.3998 - acc: 0.8581 - val_loss: 0.4155 - val_acc: 0.8552\n",
            "Epoch 18/100\n",
            "30/30 [==============================] - 0s 9ms/step - loss: 0.3865 - acc: 0.8597 - val_loss: 0.4053 - val_acc: 0.8564\n",
            "Epoch 19/100\n",
            "30/30 [==============================] - 0s 7ms/step - loss: 0.3758 - acc: 0.8632 - val_loss: 0.3972 - val_acc: 0.8584\n",
            "Epoch 20/100\n",
            "30/30 [==============================] - 0s 5ms/step - loss: 0.3676 - acc: 0.8671 - val_loss: 0.3906 - val_acc: 0.8588\n",
            "Epoch 21/100\n",
            "30/30 [==============================] - 0s 5ms/step - loss: 0.3603 - acc: 0.8687 - val_loss: 0.3843 - val_acc: 0.8612\n",
            "Epoch 22/100\n",
            "30/30 [==============================] - 0s 5ms/step - loss: 0.3549 - acc: 0.8707 - val_loss: 0.3795 - val_acc: 0.8596\n",
            "Epoch 23/100\n",
            "30/30 [==============================] - 0s 5ms/step - loss: 0.3489 - acc: 0.8732 - val_loss: 0.3741 - val_acc: 0.8624\n",
            "Epoch 24/100\n",
            "30/30 [==============================] - 0s 5ms/step - loss: 0.3441 - acc: 0.8740 - val_loss: 0.3693 - val_acc: 0.8636\n",
            "Epoch 25/100\n",
            "30/30 [==============================] - 0s 5ms/step - loss: 0.3393 - acc: 0.8764 - val_loss: 0.3654 - val_acc: 0.8648\n",
            "Epoch 26/100\n",
            "30/30 [==============================] - 0s 5ms/step - loss: 0.3348 - acc: 0.8775 - val_loss: 0.3604 - val_acc: 0.8684\n",
            "Epoch 27/100\n",
            "30/30 [==============================] - 0s 5ms/step - loss: 0.3299 - acc: 0.8801 - val_loss: 0.3578 - val_acc: 0.8704\n",
            "Epoch 28/100\n",
            "30/30 [==============================] - 0s 7ms/step - loss: 0.3261 - acc: 0.8823 - val_loss: 0.3536 - val_acc: 0.8716\n",
            "Epoch 29/100\n",
            "30/30 [==============================] - 0s 5ms/step - loss: 0.3211 - acc: 0.8835 - val_loss: 0.3484 - val_acc: 0.8744\n",
            "Epoch 30/100\n",
            "30/30 [==============================] - 0s 5ms/step - loss: 0.3170 - acc: 0.8843 - val_loss: 0.3460 - val_acc: 0.8748\n",
            "Epoch 31/100\n",
            "30/30 [==============================] - 0s 5ms/step - loss: 0.3128 - acc: 0.8863 - val_loss: 0.3418 - val_acc: 0.8748\n",
            "Epoch 32/100\n",
            "30/30 [==============================] - 0s 5ms/step - loss: 0.3089 - acc: 0.8872 - val_loss: 0.3382 - val_acc: 0.8788\n",
            "Epoch 33/100\n",
            "30/30 [==============================] - 0s 5ms/step - loss: 0.3051 - acc: 0.8883 - val_loss: 0.3355 - val_acc: 0.8788\n",
            "Epoch 34/100\n",
            "30/30 [==============================] - 0s 5ms/step - loss: 0.3023 - acc: 0.8903 - val_loss: 0.3325 - val_acc: 0.8816\n",
            "Epoch 35/100\n",
            "30/30 [==============================] - 0s 5ms/step - loss: 0.2987 - acc: 0.8932 - val_loss: 0.3316 - val_acc: 0.8804\n",
            "Epoch 36/100\n",
            "30/30 [==============================] - 0s 5ms/step - loss: 0.2960 - acc: 0.8925 - val_loss: 0.3281 - val_acc: 0.8852\n",
            "Epoch 37/100\n",
            "30/30 [==============================] - 0s 5ms/step - loss: 0.2925 - acc: 0.8935 - val_loss: 0.3241 - val_acc: 0.8852\n",
            "Epoch 38/100\n",
            "30/30 [==============================] - 0s 7ms/step - loss: 0.2898 - acc: 0.8959 - val_loss: 0.3229 - val_acc: 0.8856\n",
            "Epoch 39/100\n",
            "30/30 [==============================] - 0s 5ms/step - loss: 0.2875 - acc: 0.8959 - val_loss: 0.3206 - val_acc: 0.8856\n",
            "Epoch 40/100\n",
            "30/30 [==============================] - 0s 5ms/step - loss: 0.2845 - acc: 0.8961 - val_loss: 0.3189 - val_acc: 0.8864\n",
            "Epoch 41/100\n",
            "30/30 [==============================] - 0s 6ms/step - loss: 0.2830 - acc: 0.8975 - val_loss: 0.3165 - val_acc: 0.8852\n",
            "Epoch 42/100\n",
            "30/30 [==============================] - 0s 5ms/step - loss: 0.2802 - acc: 0.9004 - val_loss: 0.3144 - val_acc: 0.8892\n",
            "Epoch 43/100\n",
            "30/30 [==============================] - 0s 5ms/step - loss: 0.2782 - acc: 0.9007 - val_loss: 0.3138 - val_acc: 0.8888\n",
            "Epoch 44/100\n",
            "30/30 [==============================] - 0s 5ms/step - loss: 0.2764 - acc: 0.8996 - val_loss: 0.3125 - val_acc: 0.8892\n",
            "Epoch 45/100\n",
            "30/30 [==============================] - 0s 5ms/step - loss: 0.2749 - acc: 0.9019 - val_loss: 0.3109 - val_acc: 0.8912\n",
            "Epoch 46/100\n",
            "30/30 [==============================] - 0s 5ms/step - loss: 0.2726 - acc: 0.9015 - val_loss: 0.3091 - val_acc: 0.8932\n",
            "Epoch 47/100\n",
            "30/30 [==============================] - 0s 5ms/step - loss: 0.2707 - acc: 0.9023 - val_loss: 0.3081 - val_acc: 0.8924\n",
            "Epoch 48/100\n",
            "30/30 [==============================] - 0s 5ms/step - loss: 0.2696 - acc: 0.9033 - val_loss: 0.3056 - val_acc: 0.8928\n",
            "Epoch 49/100\n",
            "30/30 [==============================] - 0s 5ms/step - loss: 0.2672 - acc: 0.9041 - val_loss: 0.3044 - val_acc: 0.8928\n",
            "Epoch 50/100\n",
            "30/30 [==============================] - 0s 5ms/step - loss: 0.2662 - acc: 0.9032 - val_loss: 0.3024 - val_acc: 0.8964\n",
            "Epoch 51/100\n",
            "30/30 [==============================] - 0s 5ms/step - loss: 0.2639 - acc: 0.9045 - val_loss: 0.3022 - val_acc: 0.8940\n",
            "Epoch 52/100\n",
            "30/30 [==============================] - 0s 5ms/step - loss: 0.2622 - acc: 0.9055 - val_loss: 0.3004 - val_acc: 0.8936\n",
            "Epoch 53/100\n",
            "30/30 [==============================] - 0s 5ms/step - loss: 0.2612 - acc: 0.9051 - val_loss: 0.3008 - val_acc: 0.8956\n",
            "Epoch 54/100\n",
            "30/30 [==============================] - 0s 5ms/step - loss: 0.2599 - acc: 0.9067 - val_loss: 0.2977 - val_acc: 0.8968\n",
            "Epoch 55/100\n",
            "30/30 [==============================] - 0s 5ms/step - loss: 0.2582 - acc: 0.9064 - val_loss: 0.2985 - val_acc: 0.8960\n",
            "Epoch 56/100\n",
            "30/30 [==============================] - 0s 5ms/step - loss: 0.2570 - acc: 0.9079 - val_loss: 0.2955 - val_acc: 0.8956\n",
            "Epoch 57/100\n",
            "30/30 [==============================] - 0s 5ms/step - loss: 0.2559 - acc: 0.9087 - val_loss: 0.2945 - val_acc: 0.8972\n",
            "Epoch 58/100\n",
            "30/30 [==============================] - 0s 5ms/step - loss: 0.2543 - acc: 0.9081 - val_loss: 0.2953 - val_acc: 0.8964\n",
            "Epoch 59/100\n",
            "30/30 [==============================] - 0s 5ms/step - loss: 0.2525 - acc: 0.9103 - val_loss: 0.2940 - val_acc: 0.8952\n",
            "Epoch 60/100\n",
            "30/30 [==============================] - 0s 6ms/step - loss: 0.2509 - acc: 0.9108 - val_loss: 0.2910 - val_acc: 0.8984\n",
            "Epoch 61/100\n",
            "30/30 [==============================] - 0s 5ms/step - loss: 0.2500 - acc: 0.9101 - val_loss: 0.2913 - val_acc: 0.8968\n",
            "Epoch 62/100\n",
            "30/30 [==============================] - 0s 5ms/step - loss: 0.2497 - acc: 0.9101 - val_loss: 0.2899 - val_acc: 0.8992\n",
            "Epoch 63/100\n",
            "30/30 [==============================] - 0s 5ms/step - loss: 0.2479 - acc: 0.9107 - val_loss: 0.2899 - val_acc: 0.8980\n",
            "Epoch 64/100\n",
            "30/30 [==============================] - 0s 6ms/step - loss: 0.2466 - acc: 0.9115 - val_loss: 0.2874 - val_acc: 0.9000\n",
            "Epoch 65/100\n",
            "30/30 [==============================] - 0s 5ms/step - loss: 0.2462 - acc: 0.9104 - val_loss: 0.2873 - val_acc: 0.9000\n",
            "Epoch 66/100\n",
            "30/30 [==============================] - 0s 5ms/step - loss: 0.2450 - acc: 0.9113 - val_loss: 0.2856 - val_acc: 0.9028\n",
            "Epoch 67/100\n",
            "30/30 [==============================] - 0s 7ms/step - loss: 0.2435 - acc: 0.9121 - val_loss: 0.2859 - val_acc: 0.8996\n",
            "Epoch 68/100\n",
            "30/30 [==============================] - 0s 5ms/step - loss: 0.2430 - acc: 0.9137 - val_loss: 0.2885 - val_acc: 0.8968\n",
            "Epoch 69/100\n",
            "30/30 [==============================] - 0s 5ms/step - loss: 0.2424 - acc: 0.9115 - val_loss: 0.2841 - val_acc: 0.9028\n",
            "Epoch 70/100\n",
            "30/30 [==============================] - 0s 5ms/step - loss: 0.2407 - acc: 0.9136 - val_loss: 0.2830 - val_acc: 0.9016\n",
            "Epoch 71/100\n",
            "30/30 [==============================] - 0s 5ms/step - loss: 0.2390 - acc: 0.9131 - val_loss: 0.2820 - val_acc: 0.9036\n",
            "Epoch 72/100\n",
            "30/30 [==============================] - 0s 6ms/step - loss: 0.2388 - acc: 0.9139 - val_loss: 0.2815 - val_acc: 0.9044\n",
            "Epoch 73/100\n",
            "30/30 [==============================] - 0s 5ms/step - loss: 0.2387 - acc: 0.9155 - val_loss: 0.2819 - val_acc: 0.9048\n",
            "Epoch 74/100\n",
            "30/30 [==============================] - 0s 7ms/step - loss: 0.2380 - acc: 0.9147 - val_loss: 0.2807 - val_acc: 0.9044\n",
            "Epoch 75/100\n",
            "30/30 [==============================] - 0s 5ms/step - loss: 0.2361 - acc: 0.9157 - val_loss: 0.2804 - val_acc: 0.9028\n",
            "Epoch 76/100\n",
            "30/30 [==============================] - 0s 5ms/step - loss: 0.2356 - acc: 0.9169 - val_loss: 0.2806 - val_acc: 0.9048\n",
            "Epoch 77/100\n",
            "30/30 [==============================] - 0s 5ms/step - loss: 0.2339 - acc: 0.9164 - val_loss: 0.2782 - val_acc: 0.9036\n",
            "Epoch 78/100\n",
            "30/30 [==============================] - 0s 6ms/step - loss: 0.2342 - acc: 0.9183 - val_loss: 0.2775 - val_acc: 0.9052\n",
            "Epoch 79/100\n",
            "30/30 [==============================] - 0s 6ms/step - loss: 0.2329 - acc: 0.9188 - val_loss: 0.2778 - val_acc: 0.9056\n",
            "Epoch 80/100\n",
            "30/30 [==============================] - 0s 8ms/step - loss: 0.2327 - acc: 0.9183 - val_loss: 0.2795 - val_acc: 0.9052\n",
            "Epoch 81/100\n",
            "30/30 [==============================] - 0s 8ms/step - loss: 0.2316 - acc: 0.9193 - val_loss: 0.2766 - val_acc: 0.9044\n",
            "Epoch 82/100\n",
            "30/30 [==============================] - 0s 8ms/step - loss: 0.2307 - acc: 0.9196 - val_loss: 0.2771 - val_acc: 0.9052\n",
            "Epoch 83/100\n",
            "30/30 [==============================] - 0s 8ms/step - loss: 0.2309 - acc: 0.9201 - val_loss: 0.2772 - val_acc: 0.9052\n",
            "Epoch 84/100\n",
            "30/30 [==============================] - 0s 7ms/step - loss: 0.2297 - acc: 0.9209 - val_loss: 0.2775 - val_acc: 0.9024\n",
            "Epoch 85/100\n",
            "30/30 [==============================] - 0s 7ms/step - loss: 0.2292 - acc: 0.9216 - val_loss: 0.2754 - val_acc: 0.9076\n",
            "Epoch 86/100\n",
            "30/30 [==============================] - 0s 9ms/step - loss: 0.2277 - acc: 0.9216 - val_loss: 0.2746 - val_acc: 0.9036\n",
            "Epoch 87/100\n",
            "30/30 [==============================] - 0s 9ms/step - loss: 0.2285 - acc: 0.9192 - val_loss: 0.2743 - val_acc: 0.9064\n",
            "Epoch 88/100\n",
            "30/30 [==============================] - 0s 8ms/step - loss: 0.2267 - acc: 0.9224 - val_loss: 0.2742 - val_acc: 0.9084\n",
            "Epoch 89/100\n",
            "30/30 [==============================] - 0s 9ms/step - loss: 0.2265 - acc: 0.9209 - val_loss: 0.2737 - val_acc: 0.9060\n",
            "Epoch 90/100\n",
            "30/30 [==============================] - 0s 9ms/step - loss: 0.2265 - acc: 0.9220 - val_loss: 0.2735 - val_acc: 0.9056\n",
            "Epoch 91/100\n",
            "30/30 [==============================] - 0s 10ms/step - loss: 0.2249 - acc: 0.9228 - val_loss: 0.2731 - val_acc: 0.9064\n",
            "Epoch 92/100\n",
            "30/30 [==============================] - 0s 9ms/step - loss: 0.2247 - acc: 0.9223 - val_loss: 0.2717 - val_acc: 0.9060\n",
            "Epoch 93/100\n",
            "30/30 [==============================] - 0s 5ms/step - loss: 0.2234 - acc: 0.9244 - val_loss: 0.2707 - val_acc: 0.9068\n",
            "Epoch 94/100\n",
            "30/30 [==============================] - 0s 5ms/step - loss: 0.2233 - acc: 0.9235 - val_loss: 0.2723 - val_acc: 0.9096\n",
            "Epoch 95/100\n",
            "30/30 [==============================] - 0s 6ms/step - loss: 0.2225 - acc: 0.9256 - val_loss: 0.2704 - val_acc: 0.9068\n",
            "Epoch 96/100\n",
            "30/30 [==============================] - 0s 5ms/step - loss: 0.2218 - acc: 0.9235 - val_loss: 0.2719 - val_acc: 0.9116\n",
            "Epoch 97/100\n",
            "30/30 [==============================] - 0s 5ms/step - loss: 0.2220 - acc: 0.9247 - val_loss: 0.2707 - val_acc: 0.9092\n",
            "Epoch 98/100\n",
            "30/30 [==============================] - 0s 5ms/step - loss: 0.2205 - acc: 0.9248 - val_loss: 0.2703 - val_acc: 0.9092\n",
            "Epoch 99/100\n",
            "30/30 [==============================] - 0s 5ms/step - loss: 0.2203 - acc: 0.9264 - val_loss: 0.2699 - val_acc: 0.9076\n",
            "Epoch 100/100\n",
            "30/30 [==============================] - 0s 7ms/step - loss: 0.2196 - acc: 0.9252 - val_loss: 0.2693 - val_acc: 0.9116\n"
          ]
        }
      ]
    },
    {
      "cell_type": "code",
      "source": [
        "preds = model.predict(X_test_sc)\n",
        "\n",
        "preds.shape"
      ],
      "metadata": {
        "colab": {
          "base_uri": "https://localhost:8080/"
        },
        "id": "zW_JRwW7cQoH",
        "outputId": "8da2b405-24ba-4559-ac2e-ebf4484380d1"
      },
      "execution_count": 72,
      "outputs": [
        {
          "output_type": "stream",
          "name": "stdout",
          "text": [
            "79/79 [==============================] - 0s 4ms/step\n"
          ]
        },
        {
          "output_type": "execute_result",
          "data": {
            "text/plain": [
              "(2500, 3)"
            ]
          },
          "metadata": {},
          "execution_count": 72
        }
      ]
    },
    {
      "cell_type": "code",
      "source": [
        "np.round(preds[0, :], 3)"
      ],
      "metadata": {
        "colab": {
          "base_uri": "https://localhost:8080/"
        },
        "id": "vuMuWIEEeJBX",
        "outputId": "8c1338c0-3f2b-4084-e581-ec19b7279b7a"
      },
      "execution_count": 73,
      "outputs": [
        {
          "output_type": "execute_result",
          "data": {
            "text/plain": [
              "array([0.947, 0.002, 0.05 ], dtype=float32)"
            ]
          },
          "metadata": {},
          "execution_count": 73
        }
      ]
    },
    {
      "cell_type": "markdown",
      "source": [
        "### Visualizing model training\n",
        "---\n",
        "\n",
        "Whenever you fit your `keras` model, it returns a `History` object ([link](https://keras.io/visualization/#training-history-visualization)) that can be used for plotting."
      ],
      "metadata": {
        "id": "n9p-7RJletST"
      }
    },
    {
      "cell_type": "code",
      "source": [
        "plt.plot(res.history['loss'], label = 'Train')\n",
        "plt.plot(res.history['val_loss'], label = 'Test')\n",
        "plt.legend();"
      ],
      "metadata": {
        "colab": {
          "base_uri": "https://localhost:8080/",
          "height": 430
        },
        "id": "vQLS4yI4eKYY",
        "outputId": "e093d764-a747-46b8-8261-ceb6d43a9d26"
      },
      "execution_count": 74,
      "outputs": [
        {
          "output_type": "display_data",
          "data": {
            "text/plain": [
              "<Figure size 640x480 with 1 Axes>"
            ],
            "image/png": "[encoded data removed]"
          },
          "metadata": {}
        }
      ]
    },
    {
      "cell_type": "markdown",
      "source": [
        "### Challenge\n",
        "---\n",
        "\n",
        "Using the `history` object, plot the model's accuracy (for both train and test)."
      ],
      "metadata": {
        "id": "nT1Wjxjzezoi"
      }
    },
    {
      "cell_type": "code",
      "source": [
        "plt.plot(res.history['acc'], label = 'Train')\n",
        "plt.plot(res.history['val_acc'], label = 'Test')\n",
        "plt.legend();"
      ],
      "metadata": {
        "colab": {
          "base_uri": "https://localhost:8080/",
          "height": 430
        },
        "id": "1mnja6e5eSp9",
        "outputId": "2475eb5d-d068-492b-fefd-e3bbaa2ce5f6"
      },
      "execution_count": 75,
      "outputs": [
        {
          "output_type": "display_data",
          "data": {
            "text/plain": [
              "<Figure size 640x480 with 1 Axes>"
            ],
            "image/png": "[encoded data removed]"
          },
          "metadata": {}
        }
      ]
    },
    {
      "cell_type": "code",
      "source": [],
      "metadata": {
        "id": "gvwKvw-KeTcK"
      },
      "execution_count": null,
      "outputs": []
    }
  ]
}